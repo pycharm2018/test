{
 "cells": [
  {
   "cell_type": "code",
   "execution_count": 2,
   "metadata": {},
   "outputs": [],
   "source": [
    "from uiautomator import device as driver\n",
    "import numpy as np\n",
    "import time\n",
    "import os\n",
    "import sys\n",
    "from subprocess import run\n"
   ]
  },
  {
   "cell_type": "code",
   "execution_count": 10,
   "metadata": {},
   "outputs": [
    {
     "name": "stdout",
     "output_type": "stream",
     "text": [
      "3 7\n"
     ]
    }
   ],
   "source": [
    "print(1+2,3+4)"
   ]
  },
  {
   "cell_type": "code",
   "execution_count": 6,
   "metadata": {},
   "outputs": [
    {
     "name": "stdout",
     "output_type": "stream",
     "text": [
      "观看本地频道...\n",
      "本地频道结束\n"
     ]
    },
    {
     "data": {
      "text/plain": [
       "True"
      ]
     },
     "execution_count": 6,
     "metadata": {},
     "output_type": "execute_result"
    }
   ],
   "source": [
    "#os.system('adb shell am start cn.xuexi.android/com.alibaba.android.rimet.biz.SplashActivity')\n",
    "#os.system('adb shell dumpsys package cn.xuexi.android')\n",
    "#切换adb输入法\n",
    "os.system('adb shell ime set com.android.adbkeyboard/.AdbIME')\n",
    "driver(text='北京').click()\n",
    "time.sleep(2)\n",
    "driver(text='北京卫视').click()\n",
    "print(\"观看本地频道...\")\n",
    "time.sleep(20)\n",
    "print(\"本地频道结束\")\n",
    "driver.press.back()"
   ]
  },
  {
   "cell_type": "code",
   "execution_count": null,
   "metadata": {},
   "outputs": [],
   "source": [
    "time.sleep(2)\n",
    "#切换到要闻界面\n",
    "driver(text='新思想').click()\n",
    "text_lists=driver(className='android.widget.TextView')\n",
    "print(text_lists)\n",
    "print(text_lists[0])\n",
    "txt=text_lists[i].text\n",
    "driver(text=txt,className='android.widget.TextView').click()\n",
    "time.sleep(4)\n",
    "\n",
    "driver.click(0.94*Width, 0.975*Height)\n",
    "time.sleep(2)\n",
    "driver(text=\"分享到学习强国\").click()\n",
    "time.sleep(2)\n",
    "driver.press.back()\n",
    "\n",
    "#收藏\n",
    "driver.click(0.84*Width, 0.975*Height)\n",
    "time.sleep(1)\n",
    "\n",
    "#评论\n",
    "driver(text=\"欢迎发表你的观点\").click()\n",
    "time.sleep(2)\n",
    "os.system(\"adb shell am broadcast -a ADB_INPUT_TEXT --es msg '中国加油，武汉加油！'\")\n",
    "os.system(\"adb shell input keyevent 66\")#不知道为什么输入一个回车，点击发布才有反应\n",
    "time.sleep(2)\n",
    "driver(text=\"发布\").click()\n",
    "\n",
    "\n",
    "count_click=0\n",
    "count=0\n",
    "drag_str='adb shell input swipe '+str(Width*0.5)+' '+str(Height*0.88)+' '+str(Width*0.5)+' '+str(Height*0.3)\n",
    "for _ in range(100):\n",
    "    text_lists=driver(className='android.widget.TextView')\n",
    "    try:\n",
    "        for i in range(len(text_lists)):\n",
    "            txt=text_lists[i].text\n",
    "            if len(txt)>11 and txt not in all_of_list and count<sum:\n",
    "                driver(text=txt,className='android.widget.TextView').click()\n",
    "                #分享，收藏，评论\n",
    "                if click and count_click<2:\n",
    "                    #分享\n",
    "                    time.sleep(4)\n",
    "                    driver.click(0.94*Width, 0.975*Height)\n",
    "                    time.sleep(2)\n",
    "                    driver(text=\"分享到学习强国\").click()\n",
    "                    time.sleep(2)\n",
    "                    driver.press.back()\n",
    "                    #收藏\n",
    "                    driver.click(0.84*Width, 0.975*Height)\n",
    "                    #评论\n",
    "                    time.sleep(1)\n",
    "                    driver(text=\"欢迎发表你的观点\").click()\n",
    "                    time.sleep(2)\n",
    "                    os.system(\"adb shell am broadcast -a ADB_INPUT_TEXT --es msg '中国加油，武汉加油！'\")\n",
    "                    os.system(\"adb shell input keyevent 66\")#不知道为什么输入一个回车，点击发布才有反应\n",
    "                    time.sleep(2)\n",
    "                    driver(text=\"发布\").click()\n",
    "                    count_click=count_click+1\n",
    "                    '''\n",
    "                    @liuzhijie443\n",
    "                    #收藏\n",
    "                    time.sleep(5)\n",
    "                    driver.click(0.84*Width, 0.975*Height)\n",
    "                    time.sleep(1)\n",
    "                    driver.click(0.84*Width, 0.975*Height)\n",
    "                    #删除发布的评论\n",
    "                    time.sleep(2)\n",
    "                    driver(text=\"删除\").click()\n",
    "                    time.sleep(2)\n",
    "                    driver(text=\"确认\").click()\n",
    "                    '''\n",
    "                count=count+1\n",
    "                all_of_list.append(txt)\n",
    "                print(\"正在\"+tv+\"...\",txt)\n",
    "                time.sleep(sleep_time)\n",
    "                driver.press.back()\n",
    "    except BaseException:\n",
    "        print(\"抛出异常，程序继续执行...\")\n",
    "    if count >=sum:\n",
    "        break\n",
    "    os.system(drag_str)\n",
    "\n",
    "\n",
    "#autoJob(tv=\"阅读文章\",sleep_time=130)\n",
    "print(\"阅读文章结束\")"
   ]
  },
  {
   "cell_type": "code",
   "execution_count": null,
   "metadata": {},
   "outputs": [],
   "source": [
    "from uiautomator import device as driver\n",
    "import numpy as np\n",
    "import time\n",
    "import os\n",
    "import sys\n",
    "\n",
    "#打开学习强国\n",
    "#os.system('adb shell am start cn.xuexi.android/com.alibaba.android.rimet.biz.SplashActivity')\n",
    "#adb shell dumpsys package cn.xuexi.android >t.txt\n",
    "#print('打开学习强国')\n",
    "#屏幕高度\n",
    "Height=driver.info['displayHeight']\n",
    "Width=driver.info['displayWidth']\n",
    "#切换adb输入法，需要先安装ADB输入法\n",
    "os.system('adb shell ime set com.android.adbkeyboard/.AdbIME')\n",
    "print('切换输入法')\n",
    "watch_local()\n",
    "read_articles()\n",
    "watch_video()\n",
    "#切换回搜狗输入法\n",
    "#os.system('adb shell ime set com.sohu.inputmethod.sogou.meizu/com.sohu.inputmethod.sogou.SogouIME')\n",
    "#熄灭屏幕\n",
    "os.system('adb shell input keyevent 26')\n"
   ]
  }
 ],
 "metadata": {
  "kernelspec": {
   "display_name": "Python 3",
   "language": "python",
   "name": "python3"
  },
  "language_info": {
   "codemirror_mode": {
    "name": "ipython",
    "version": 3
   },
   "file_extension": ".py",
   "mimetype": "text/x-python",
   "name": "python",
   "nbconvert_exporter": "python",
   "pygments_lexer": "ipython3",
   "version": "3.6.8"
  },
  "toc": {
   "base_numbering": 1,
   "nav_menu": {},
   "number_sections": true,
   "sideBar": true,
   "skip_h1_title": false,
   "title_cell": "Table of Contents",
   "title_sidebar": "Contents",
   "toc_cell": false,
   "toc_position": {},
   "toc_section_display": true,
   "toc_window_display": false
  }
 },
 "nbformat": 4,
 "nbformat_minor": 4
}
